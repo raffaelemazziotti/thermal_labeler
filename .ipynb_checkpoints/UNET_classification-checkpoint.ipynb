{
 "cells": [
  {
   "cell_type": "code",
   "execution_count": 77,
   "id": "e578ddfd",
   "metadata": {
    "ExecuteTime": {
     "end_time": "2023-06-07T08:20:12.545741Z",
     "start_time": "2023-06-07T08:20:12.523746Z"
    }
   },
   "outputs": [],
   "source": [
    "import dask.dataframe as dd\n",
    "import matplotlib.pyplot as plt\n",
    "import numpy as np\n",
    "from pathlib import Path\n",
    "import pandas as pd\n",
    "from datetime import datetime\n",
    "import os\n",
    "import cv2\n",
    "import matplotlib.pyplot as plt\n",
    "\n",
    "class Lettore:\n",
    "    def __init__(self, filepth, frame_size = (144,112)):\n",
    "        self.pth = filepth\n",
    "        self.frame_size = frame_size\n",
    "\n",
    "    def __enter__(self):\n",
    "        self.file_img = open(self.pth + 'img.csv', 'r') \n",
    "        self.file_label = open(self.pth + 'label.csv', 'r') \n",
    "        \n",
    "        # reading header\n",
    "        line = self.file_img.readline() \n",
    "        line = line.strip()\n",
    "        self.header = dict( [i.split(':') for i in line[1:].split(';')] )\n",
    "        self.header['ROI_x'] = int(self.header['ROI_x'])\n",
    "        self.header['ROI_y'] = int(self.header['ROI_y'])\n",
    "        \n",
    "        return self\n",
    "    \n",
    "    def getFrameNext(self):\n",
    "        line_img = self.file_img.readline() \n",
    "        line_lbl = self.file_label.readline() \n",
    "        \n",
    "        if line_img:\n",
    "            line_img = line_img.strip()\n",
    "            line_lbl = line_lbl.strip()\n",
    "            \n",
    "            if line_img[-1]==';':\n",
    "                array_img = np.array(line_img[:-1].split(';'), dtype=np.float32)\n",
    "                array_lbl = np.array(line_lbl[:-1].split(';'), dtype=np.float32)\n",
    "            else:\n",
    "                array_img = np.array(line_img.split(';'), dtype=np.float32)\n",
    "                array_lbl = np.array(line_lbl.split(';'), dtype=np.float32)\n",
    "\n",
    "            frame_id = array_img[0]\n",
    "            lbl_id = array_lbl[0]\n",
    "            if frame_id != lbl_id:\n",
    "                print('######### WARNING: ID mismatch ##########')\n",
    "            frame = array_img[1:].reshape([self.header['ROI_x'],self.header['ROI_y']])\n",
    "            lbl = array_lbl[1:].reshape([self.header['ROI_x'],self.header['ROI_y']])\n",
    "\n",
    "            frame = cv2.resize(frame,dsize=self.frame_size,interpolation=cv2.INTER_CUBIC).T\n",
    "            lbl = cv2.resize(lbl,dsize=self.frame_size,interpolation=cv2.INTER_NEAREST).T\n",
    "        else:\n",
    "            frame_id = None\n",
    "            frame = None\n",
    "            lbl = None\n",
    "            \n",
    "        return frame_id, frame, lbl\n",
    "\n",
    "    def __exit__(self, exc_type, exc_value, traceback):\n",
    "        self.file_img.close()\n",
    "        self.file_label.close()"
   ]
  },
  {
   "cell_type": "code",
   "execution_count": 104,
   "id": "88b5bf8f",
   "metadata": {
    "ExecuteTime": {
     "end_time": "2023-06-07T08:52:06.804309Z",
     "start_time": "2023-06-07T08:52:06.786667Z"
    }
   },
   "outputs": [],
   "source": [
    "pth = Path(r'C:\\Users\\pupil\\Downloads\\thermal_behaviour_72_h_clean\\Training')\n",
    "content = os.listdir(pth)\n",
    "content = list(filter(lambda x: (pth/x).is_dir(), content ) ) \n",
    "\n",
    "subjects = dict()\n",
    "for c in content:\n",
    "    parts = c.split('-')\n",
    "    sub_id = parts[2]\n",
    "    if sub_id not in subjects.keys():\n",
    "        subjects[sub_id] = dict()\n",
    "        subjects[sub_id]['id'] = parts[2] \n",
    "        subject_parts = subjects[sub_id]['id'].split('_')\n",
    "        subjects[sub_id]['geno'] = subject_parts[0]\n",
    "        subjects[sub_id]['number'] = subject_parts[1]\n",
    "        subjects[sub_id]['label'] = [(pth/c/'label.csv').as_posix()]\n",
    "        subjects[sub_id]['img'] = [(pth/c/'img.csv').as_posix()]\n",
    "    else:\n",
    "        subjects[sub_id]['label'].append( (pth/c/'label.csv').as_posix() )\n",
    "        subjects[sub_id]['img'].append( (pth/c/'img.csv').as_posix() )\n",
    "\n",
    "subjects = pd.DataFrame.from_dict(subjects).T.reset_index(drop=True)\n",
    "subjects['img'] = subjects['img'].apply(sorted)"
   ]
  },
  {
   "cell_type": "code",
   "execution_count": 105,
   "id": "6e81c20d",
   "metadata": {
    "ExecuteTime": {
     "end_time": "2023-06-07T08:52:07.502700Z",
     "start_time": "2023-06-07T08:52:07.491698Z"
    }
   },
   "outputs": [
    {
     "data": {
      "text/html": [
       "<div>\n",
       "<style scoped>\n",
       "    .dataframe tbody tr th:only-of-type {\n",
       "        vertical-align: middle;\n",
       "    }\n",
       "\n",
       "    .dataframe tbody tr th {\n",
       "        vertical-align: top;\n",
       "    }\n",
       "\n",
       "    .dataframe thead th {\n",
       "        text-align: right;\n",
       "    }\n",
       "</style>\n",
       "<table border=\"1\" class=\"dataframe\">\n",
       "  <thead>\n",
       "    <tr style=\"text-align: right;\">\n",
       "      <th></th>\n",
       "      <th>id</th>\n",
       "      <th>geno</th>\n",
       "      <th>number</th>\n",
       "      <th>label</th>\n",
       "      <th>img</th>\n",
       "    </tr>\n",
       "  </thead>\n",
       "  <tbody>\n",
       "    <tr>\n",
       "      <th>0</th>\n",
       "      <td>KO_69</td>\n",
       "      <td>KO</td>\n",
       "      <td>69</td>\n",
       "      <td>[C:/Users/pupil/Downloads/thermal_behaviour_72...</td>\n",
       "      <td>[C:/Users/pupil/Downloads/thermal_behaviour_72...</td>\n",
       "    </tr>\n",
       "    <tr>\n",
       "      <th>1</th>\n",
       "      <td>WT_74</td>\n",
       "      <td>WT</td>\n",
       "      <td>74</td>\n",
       "      <td>[C:/Users/pupil/Downloads/thermal_behaviour_72...</td>\n",
       "      <td>[C:/Users/pupil/Downloads/thermal_behaviour_72...</td>\n",
       "    </tr>\n",
       "    <tr>\n",
       "      <th>2</th>\n",
       "      <td>WT_81</td>\n",
       "      <td>WT</td>\n",
       "      <td>81</td>\n",
       "      <td>[C:/Users/pupil/Downloads/thermal_behaviour_72...</td>\n",
       "      <td>[C:/Users/pupil/Downloads/thermal_behaviour_72...</td>\n",
       "    </tr>\n",
       "  </tbody>\n",
       "</table>\n",
       "</div>"
      ],
      "text/plain": [
       "      id geno number                                              label  \\\n",
       "0  KO_69   KO     69  [C:/Users/pupil/Downloads/thermal_behaviour_72...   \n",
       "1  WT_74   WT     74  [C:/Users/pupil/Downloads/thermal_behaviour_72...   \n",
       "2  WT_81   WT     81  [C:/Users/pupil/Downloads/thermal_behaviour_72...   \n",
       "\n",
       "                                                 img  \n",
       "0  [C:/Users/pupil/Downloads/thermal_behaviour_72...  \n",
       "1  [C:/Users/pupil/Downloads/thermal_behaviour_72...  \n",
       "2  [C:/Users/pupil/Downloads/thermal_behaviour_72...  "
      ]
     },
     "execution_count": 105,
     "metadata": {},
     "output_type": "execute_result"
    }
   ],
   "source": [
    "subjects"
   ]
  },
  {
   "cell_type": "code",
   "execution_count": 106,
   "id": "0364f039",
   "metadata": {
    "ExecuteTime": {
     "end_time": "2023-06-07T08:52:09.690618Z",
     "start_time": "2023-06-07T08:52:09.666620Z"
    }
   },
   "outputs": [],
   "source": [
    "cv2.destroyAllWindows()"
   ]
  },
  {
   "cell_type": "code",
   "execution_count": 107,
   "id": "d3be2050",
   "metadata": {
    "ExecuteTime": {
     "end_time": "2023-06-07T08:53:24.119610Z",
     "start_time": "2023-06-07T08:52:10.954648Z"
    }
   },
   "outputs": [],
   "source": [
    "cv2.namedWindow('win', cv2.WINDOW_NORMAL)\n",
    "\n",
    "with Lettore(subjects.loc[0,'label'][0]) as L:\n",
    "    while True:\n",
    "        frame_id, frame = L.getFrameNext()\n",
    "        if frame_id:\n",
    "            cv2.imshow('win', frame/np.max(frame) )\n",
    "        else:\n",
    "            break\n",
    "        \n",
    "        if cv2.waitKey(1) & 0xFF == ord('q'):\n",
    "            break\n",
    "cv2.destroyAllWindows()"
   ]
  },
  {
   "cell_type": "code",
   "execution_count": 108,
   "id": "50e0ed13",
   "metadata": {
    "ExecuteTime": {
     "end_time": "2023-06-07T08:54:44.712057Z",
     "start_time": "2023-06-07T08:54:44.691043Z"
    }
   },
   "outputs": [
    {
     "name": "stdout",
     "output_type": "stream",
     "text": [
      "id                                                    KO_69\n",
      "geno                                                     KO\n",
      "number                                                   69\n",
      "label     [C:/Users/pupil/Downloads/thermal_behaviour_72...\n",
      "img       [C:/Users/pupil/Downloads/thermal_behaviour_72...\n",
      "Name: 0, dtype: object\n",
      "id                                                    WT_74\n",
      "geno                                                     WT\n",
      "number                                                   74\n",
      "label     [C:/Users/pupil/Downloads/thermal_behaviour_72...\n",
      "img       [C:/Users/pupil/Downloads/thermal_behaviour_72...\n",
      "Name: 1, dtype: object\n",
      "id                                                    WT_81\n",
      "geno                                                     WT\n",
      "number                                                   81\n",
      "label     [C:/Users/pupil/Downloads/thermal_behaviour_72...\n",
      "img       [C:/Users/pupil/Downloads/thermal_behaviour_72...\n",
      "Name: 2, dtype: object\n"
     ]
    }
   ],
   "source": [
    "\n",
    "for i,sub in subjects.iterrows():\n",
    "    print(sub)"
   ]
  },
  {
   "cell_type": "code",
   "execution_count": 110,
   "id": "2e97ccc0",
   "metadata": {
    "ExecuteTime": {
     "end_time": "2023-06-07T08:56:41.344789Z",
     "start_time": "2023-06-07T08:56:41.330790Z"
    }
   },
   "outputs": [
    {
     "data": {
      "text/plain": [
       "['C:/Users/pupil/Downloads/thermal_behaviour_72_h_clean/Training/20230519_113859-ROI_7-WT_81/label.csv']"
      ]
     },
     "execution_count": 110,
     "metadata": {},
     "output_type": "execute_result"
    }
   ],
   "source": []
  },
  {
   "cell_type": "code",
   "execution_count": null,
   "id": "314186aa",
   "metadata": {},
   "outputs": [],
   "source": []
  }
 ],
 "metadata": {
  "kernelspec": {
   "display_name": "Python 3 (ipykernel)",
   "language": "python",
   "name": "python3"
  },
  "language_info": {
   "codemirror_mode": {
    "name": "ipython",
    "version": 3
   },
   "file_extension": ".py",
   "mimetype": "text/x-python",
   "name": "python",
   "nbconvert_exporter": "python",
   "pygments_lexer": "ipython3",
   "version": "3.9.13"
  }
 },
 "nbformat": 4,
 "nbformat_minor": 5
}
