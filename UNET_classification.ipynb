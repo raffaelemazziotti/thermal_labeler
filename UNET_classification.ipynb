{
 "cells": [
  {
   "cell_type": "code",
   "execution_count": 2,
   "id": "b388230a",
   "metadata": {
    "ExecuteTime": {
     "end_time": "2023-06-09T08:59:19.089924Z",
     "start_time": "2023-06-09T08:59:18.010938Z"
    }
   },
   "outputs": [],
   "source": [
    "import dask.dataframe as dd\n",
    "import matplotlib.pyplot as plt\n",
    "import numpy as np\n",
    "from pathlib import Path\n",
    "import pandas as pd\n",
    "from datetime import datetime\n",
    "import os\n",
    "import cv2\n",
    "import matplotlib.pyplot as plt\n",
    "\n",
    "class Lettore:\n",
    "    def __init__(self, filepth, frame_size = (144,112)):\n",
    "        self.pth = filepth\n",
    "        self.frame_size = frame_size\n",
    "\n",
    "    def __enter__(self):\n",
    "        self.file_img = open( os.path.join( self.pth, 'img.csv' ) , 'r') \n",
    "        self.file_label = open(os.path.join( self.pth, 'label.csv' ), 'r') \n",
    "        self.file_beh = open(os.path.join( self.pth, 'label_beh.csv' ), 'r') \n",
    "        \n",
    "        # reading header\n",
    "        line = self.file_img.readline() \n",
    "        line = self.file_label.readline() \n",
    "        lineb = self.file_beh.readline() \n",
    "        \n",
    "        line = line.strip()\n",
    "        self.header = dict( [i.split(':') for i in line[1:].split(';')] )\n",
    "        self.header['ROI_x'] = int(self.header['ROI_x'])\n",
    "        self.header['ROI_y'] = int(self.header['ROI_y'])\n",
    "        \n",
    "        return self\n",
    "    \n",
    "    def getFrameNext(self):\n",
    "        line_img = self.file_img.readline() \n",
    "        line_lbl = self.file_label.readline()\n",
    "        line_beh = self.file_beh.readline()\n",
    "        \n",
    "        if line_img:\n",
    "            line_img = line_img.strip()\n",
    "            line_lbl = line_lbl.strip()\n",
    "            line_beh = line_beh.strip()\n",
    "            \n",
    "            if line_img[-1]==';':\n",
    "                array_img = np.array(line_img[:-1].split(';'), dtype=np.float32)\n",
    "            else:\n",
    "                array_img = np.array(line_img.split(';'), dtype=np.float32)\n",
    "                \n",
    "            if line_lbl[-1]==';':\n",
    "                array_lbl = np.array(line_lbl[:-1].split(';'), dtype=np.float32)\n",
    "            else:\n",
    "                array_lbl = np.array(line_lbl.split(';'), dtype=np.float32)\n",
    "            \n",
    "            if line_beh[-1]==';':\n",
    "                beh = line_beh[:-1].split(';')\n",
    "            else:\n",
    "                array_beh = line_beh.split(';')\n",
    "\n",
    "            frame_id = array_img[0]\n",
    "            lbl_id = array_lbl[0]\n",
    "            beh_id = np.float32(array_beh[0])\n",
    "            \n",
    "            if not(frame_id == lbl_id and lbl_id== beh_id and frame_id == beh_id):\n",
    "                print('######### WARNING: ID mismatch ##########')\n",
    "                print(frame_id, lbl_id, beh_id,'=',frame_id - lbl_id - beh_id)\n",
    "            \n",
    "            frame = array_img[1:].reshape([self.header['ROI_x'],self.header['ROI_y']])\n",
    "            lbl = array_lbl[1:].reshape([self.header['ROI_x'],self.header['ROI_y']])\n",
    "            beh = array_beh[1]\n",
    "            \n",
    "            frame = cv2.resize(frame,dsize=self.frame_size,interpolation=cv2.INTER_CUBIC).T\n",
    "            lbl = cv2.resize(lbl,dsize=self.frame_size,interpolation=cv2.INTER_NEAREST).T\n",
    "        else:\n",
    "            frame_id = None\n",
    "            frame = None\n",
    "            lbl = None\n",
    "            beh = None\n",
    "            \n",
    "        return frame_id, frame, lbl, beh\n",
    "\n",
    "    def __exit__(self, exc_type, exc_value, traceback):\n",
    "        self.file_img.close()\n",
    "        self.file_label.close()"
   ]
  },
  {
   "cell_type": "code",
   "execution_count": 3,
   "id": "3a73a8fa",
   "metadata": {
    "ExecuteTime": {
     "end_time": "2023-06-09T08:59:19.105925Z",
     "start_time": "2023-06-09T08:59:19.090926Z"
    }
   },
   "outputs": [],
   "source": [
    "pth = Path(r'D:\\thermography\\thermal_behaviour_72_h_clean\\data')\n",
    "content = os.listdir(pth)\n",
    "content = list(filter(lambda x: (pth/x).is_dir(), content ) ) \n",
    "\n",
    "subjects = dict()\n",
    "for c in content:\n",
    "    parts = c.split('-')\n",
    "    sub_id = parts[2]\n",
    "    if sub_id not in subjects.keys():\n",
    "        subjects[sub_id] = dict()\n",
    "        subjects[sub_id]['id'] = parts[2] \n",
    "        subject_parts = subjects[sub_id]['id'].split('_')\n",
    "        subjects[sub_id]['geno'] = subject_parts[0]\n",
    "        subjects[sub_id]['number'] = subject_parts[1]\n",
    "        subjects[sub_id]['path'] = (pth/c).as_posix()\n",
    "        #subjects[sub_id]['img'] = [(pth/c/'img.csv').as_posix()]\n",
    "    #else:\n",
    "        #subjects[sub_id]['label'].append( (pth/c/'label.csv').as_posix() )\n",
    "        #subjects[sub_id]['img'].append( (pth/c/'img.csv').as_posix() )\n",
    "\n",
    "subjects = pd.DataFrame.from_dict(subjects).T.reset_index(drop=True)\n",
    "#subjects['img'] = subjects['img'].apply(sorted)"
   ]
  },
  {
   "cell_type": "code",
   "execution_count": 4,
   "id": "4e768792",
   "metadata": {
    "ExecuteTime": {
     "end_time": "2023-06-09T08:59:19.292105Z",
     "start_time": "2023-06-09T08:59:19.266105Z"
    },
    "scrolled": true
   },
   "outputs": [
    {
     "data": {
      "text/html": [
       "<div>\n",
       "<style scoped>\n",
       "    .dataframe tbody tr th:only-of-type {\n",
       "        vertical-align: middle;\n",
       "    }\n",
       "\n",
       "    .dataframe tbody tr th {\n",
       "        vertical-align: top;\n",
       "    }\n",
       "\n",
       "    .dataframe thead th {\n",
       "        text-align: right;\n",
       "    }\n",
       "</style>\n",
       "<table border=\"1\" class=\"dataframe\">\n",
       "  <thead>\n",
       "    <tr style=\"text-align: right;\">\n",
       "      <th></th>\n",
       "      <th>id</th>\n",
       "      <th>geno</th>\n",
       "      <th>number</th>\n",
       "      <th>path</th>\n",
       "    </tr>\n",
       "  </thead>\n",
       "  <tbody>\n",
       "    <tr>\n",
       "      <th>0</th>\n",
       "      <td>KO_70</td>\n",
       "      <td>KO</td>\n",
       "      <td>70</td>\n",
       "      <td>D:/thermography/thermal_behaviour_72_h_clean/d...</td>\n",
       "    </tr>\n",
       "    <tr>\n",
       "      <th>1</th>\n",
       "      <td>KO_69</td>\n",
       "      <td>KO</td>\n",
       "      <td>69</td>\n",
       "      <td>D:/thermography/thermal_behaviour_72_h_clean/d...</td>\n",
       "    </tr>\n",
       "    <tr>\n",
       "      <th>2</th>\n",
       "      <td>WT_74</td>\n",
       "      <td>WT</td>\n",
       "      <td>74</td>\n",
       "      <td>D:/thermography/thermal_behaviour_72_h_clean/d...</td>\n",
       "    </tr>\n",
       "    <tr>\n",
       "      <th>3</th>\n",
       "      <td>WT_81</td>\n",
       "      <td>WT</td>\n",
       "      <td>81</td>\n",
       "      <td>D:/thermography/thermal_behaviour_72_h_clean/d...</td>\n",
       "    </tr>\n",
       "    <tr>\n",
       "      <th>4</th>\n",
       "      <td>KO_75</td>\n",
       "      <td>KO</td>\n",
       "      <td>75</td>\n",
       "      <td>D:/thermography/thermal_behaviour_72_h_clean/d...</td>\n",
       "    </tr>\n",
       "    <tr>\n",
       "      <th>5</th>\n",
       "      <td>KO_72</td>\n",
       "      <td>KO</td>\n",
       "      <td>72</td>\n",
       "      <td>D:/thermography/thermal_behaviour_72_h_clean/d...</td>\n",
       "    </tr>\n",
       "    <tr>\n",
       "      <th>6</th>\n",
       "      <td>WT_79</td>\n",
       "      <td>WT</td>\n",
       "      <td>79</td>\n",
       "      <td>D:/thermography/thermal_behaviour_72_h_clean/d...</td>\n",
       "    </tr>\n",
       "  </tbody>\n",
       "</table>\n",
       "</div>"
      ],
      "text/plain": [
       "      id geno number                                               path\n",
       "0  KO_70   KO     70  D:/thermography/thermal_behaviour_72_h_clean/d...\n",
       "1  KO_69   KO     69  D:/thermography/thermal_behaviour_72_h_clean/d...\n",
       "2  WT_74   WT     74  D:/thermography/thermal_behaviour_72_h_clean/d...\n",
       "3  WT_81   WT     81  D:/thermography/thermal_behaviour_72_h_clean/d...\n",
       "4  KO_75   KO     75  D:/thermography/thermal_behaviour_72_h_clean/d...\n",
       "5  KO_72   KO     72  D:/thermography/thermal_behaviour_72_h_clean/d...\n",
       "6  WT_79   WT     79  D:/thermography/thermal_behaviour_72_h_clean/d..."
      ]
     },
     "execution_count": 4,
     "metadata": {},
     "output_type": "execute_result"
    }
   ],
   "source": [
    "subjects"
   ]
  },
  {
   "cell_type": "code",
   "execution_count": 4,
   "id": "c63a10b4",
   "metadata": {
    "ExecuteTime": {
     "end_time": "2023-06-08T14:28:26.558961Z",
     "start_time": "2023-06-08T14:28:22.523268Z"
    }
   },
   "outputs": [],
   "source": [
    "cv2.namedWindow('img', cv2.WINDOW_NORMAL)\n",
    "cv2.namedWindow('lbl', cv2.WINDOW_NORMAL)\n",
    "\n",
    "with Lettore(subjects.loc[6,'path']) as L:\n",
    "    while True:\n",
    "        frame_id, frame, lbl, beh = L.getFrameNext()\n",
    "        if frame_id:\n",
    "            cv2.imshow('img', frame/np.max(frame) )\n",
    "            cv2.imshow('lbl', lbl/np.max(lbl) )\n",
    "        else:\n",
    "            break\n",
    "        \n",
    "        if cv2.waitKey(1) & 0xFF == ord('q'):\n",
    "            break\n",
    "cv2.destroyAllWindows()"
   ]
  },
  {
   "cell_type": "code",
   "execution_count": 5,
   "id": "fcdd63ee",
   "metadata": {
    "ExecuteTime": {
     "end_time": "2023-06-08T08:05:23.987009Z",
     "start_time": "2023-06-08T08:05:23.972009Z"
    }
   },
   "outputs": [],
   "source": [
    "cv2.destroyAllWindows()"
   ]
  },
  {
   "cell_type": "code",
   "execution_count": 5,
   "id": "01e2dcc6",
   "metadata": {
    "ExecuteTime": {
     "end_time": "2023-06-08T14:28:28.958870Z",
     "start_time": "2023-06-08T14:28:28.947872Z"
    },
    "scrolled": true
   },
   "outputs": [],
   "source": [
    "#cv2.namedWindow('img', cv2.WINDOW_NORMAL)\n",
    "#cv2.namedWindow('lbl', cv2.WINDOW_NORMAL)\n",
    "#exit = False\n",
    "\n",
    "#pth_img = 'D:\\\\thermography\\\\thermal_behaviour_72_h_clean\\\\thermals\\\\'\n",
    "#pth_masks = 'D:\\\\thermography\\\\thermal_behaviour_72_h_clean\\\\masks\\\\'\n",
    "#pth_lbl = 'D:\\\\thermography\\\\thermal_behaviour_72_h_clean\\\\labels\\\\'\n",
    "\n",
    "#subjects = subjects.sample(frac=1)\n",
    "#for i,sub in subjects.iterrows():\n",
    "#    print(sub)\n",
    "#    if exit:\n",
    "#        break\n",
    "#        \n",
    "#    with Lettore(sub['path']) as L:\n",
    "#        while True:\n",
    "#            frame_id, frame, lbl, beh = L.getFrameNext()\n",
    "#            if frame_id:\n",
    "#                frame = np.nan_to_num(frame, nan=np.nanmedian(frame))\n",
    "#                if not(os.path.exists( os.path.join(pth_img, sub['id'] + '_' + str(frame_id) + '.npy' ) ) ):\n",
    "#                    np.save(os.path.join(pth_img, sub['id'] + '_' + str(int(frame_id)) + '.npy' ),frame)\n",
    "#                    np.save(os.path.join(pth_masks, sub['id'] + '_' + str(int(frame_id)) + '.npy' ),lbl)\n",
    "#                    np.save(os.path.join(pth_lbl, sub['id'] + '_' + str(int(frame_id)) + '.npy' ),beh)\n",
    "#                \n",
    "#                frame = (((frame - np.min(frame) ) / (np.max(frame) - np.min(frame) ) )*255).astype('uint8')\n",
    "#                frame = cv2.cvtColor(frame,cv2.COLOR_GRAY2RGB)\n",
    "#                frame = cv2.putText(frame,beh.lower(),(0,20),cv2.FONT_HERSHEY_COMPLEX,.5,(255,255,255),1,cv2.LINE_AA)\n",
    "#                \n",
    "#                cv2.imshow('img', frame )\n",
    "#                cv2.imshow('lbl', lbl/np.max(lbl) )\n",
    "#            else:\n",
    "#                break\n",
    "#\n",
    "#            if cv2.waitKey(1) & 0xFF == ord('q'):\n",
    "#                exit = True\n",
    "#                break\n",
    "#                \n",
    "#cv2.destroyAllWindows()\n"
   ]
  },
  {
   "cell_type": "code",
   "execution_count": 6,
   "id": "c49f26fc",
   "metadata": {
    "ExecuteTime": {
     "end_time": "2023-06-08T14:28:29.283216Z",
     "start_time": "2023-06-08T14:28:29.275216Z"
    }
   },
   "outputs": [],
   "source": [
    "cv2.destroyAllWindows()"
   ]
  },
  {
   "cell_type": "code",
   "execution_count": 5,
   "id": "0857257f",
   "metadata": {
    "ExecuteTime": {
     "end_time": "2023-06-09T08:59:29.791051Z",
     "start_time": "2023-06-09T08:59:29.187052Z"
    }
   },
   "outputs": [
    {
     "name": "stdout",
     "output_type": "stream",
     "text": [
      "Number of samples: 60358\n",
      "D:\\thermography\\thermal_behaviour_72_h_clean\\thermals\\KO_69_1000206.npy | D:\\thermography\\thermal_behaviour_72_h_clean\\masks\\KO_69_1000206.npy | D:\\thermography\\thermal_behaviour_72_h_clean\\labels\\KO_69_1000206.npy\n",
      "D:\\thermography\\thermal_behaviour_72_h_clean\\thermals\\KO_69_100025.npy | D:\\thermography\\thermal_behaviour_72_h_clean\\masks\\KO_69_100025.npy | D:\\thermography\\thermal_behaviour_72_h_clean\\labels\\KO_69_100025.npy\n",
      "D:\\thermography\\thermal_behaviour_72_h_clean\\thermals\\KO_69_1000465.npy | D:\\thermography\\thermal_behaviour_72_h_clean\\masks\\KO_69_1000465.npy | D:\\thermography\\thermal_behaviour_72_h_clean\\labels\\KO_69_1000465.npy\n",
      "D:\\thermography\\thermal_behaviour_72_h_clean\\thermals\\KO_69_1000726.npy | D:\\thermography\\thermal_behaviour_72_h_clean\\masks\\KO_69_1000726.npy | D:\\thermography\\thermal_behaviour_72_h_clean\\labels\\KO_69_1000726.npy\n",
      "D:\\thermography\\thermal_behaviour_72_h_clean\\thermals\\KO_69_1000983.npy | D:\\thermography\\thermal_behaviour_72_h_clean\\masks\\KO_69_1000983.npy | D:\\thermography\\thermal_behaviour_72_h_clean\\labels\\KO_69_1000983.npy\n",
      "D:\\thermography\\thermal_behaviour_72_h_clean\\thermals\\KO_69_1001239.npy | D:\\thermography\\thermal_behaviour_72_h_clean\\masks\\KO_69_1001239.npy | D:\\thermography\\thermal_behaviour_72_h_clean\\labels\\KO_69_1001239.npy\n",
      "D:\\thermography\\thermal_behaviour_72_h_clean\\thermals\\KO_69_1001495.npy | D:\\thermography\\thermal_behaviour_72_h_clean\\masks\\KO_69_1001495.npy | D:\\thermography\\thermal_behaviour_72_h_clean\\labels\\KO_69_1001495.npy\n",
      "D:\\thermography\\thermal_behaviour_72_h_clean\\thermals\\KO_69_1001750.npy | D:\\thermography\\thermal_behaviour_72_h_clean\\masks\\KO_69_1001750.npy | D:\\thermography\\thermal_behaviour_72_h_clean\\labels\\KO_69_1001750.npy\n",
      "D:\\thermography\\thermal_behaviour_72_h_clean\\thermals\\KO_69_1002008.npy | D:\\thermography\\thermal_behaviour_72_h_clean\\masks\\KO_69_1002008.npy | D:\\thermography\\thermal_behaviour_72_h_clean\\labels\\KO_69_1002008.npy\n",
      "D:\\thermography\\thermal_behaviour_72_h_clean\\thermals\\KO_69_1002268.npy | D:\\thermography\\thermal_behaviour_72_h_clean\\masks\\KO_69_1002268.npy | D:\\thermography\\thermal_behaviour_72_h_clean\\labels\\KO_69_1002268.npy\n"
     ]
    }
   ],
   "source": [
    "# qui unetta\n",
    "\n",
    "\n",
    "input_dir = 'D:\\\\thermography\\\\thermal_behaviour_72_h_clean\\\\thermals\\\\'\n",
    "target_dir = 'D:\\\\thermography\\\\thermal_behaviour_72_h_clean\\\\masks\\\\'\n",
    "beh_dir = 'D:\\\\thermography\\\\thermal_behaviour_72_h_clean\\\\labels\\\\'\n",
    "\n",
    "img_size = (144, 112)\n",
    "num_classes = 1\n",
    "batch_size = 32\n",
    "\n",
    "input_img_paths = sorted(\n",
    "    [\n",
    "        os.path.join(input_dir, fname)\n",
    "        for fname in os.listdir(input_dir)\n",
    "        if fname.endswith(\".npy\")\n",
    "    ]\n",
    ")\n",
    "\n",
    "target_img_paths = sorted(\n",
    "    [\n",
    "        os.path.join(target_dir, fname)\n",
    "        for fname in os.listdir(target_dir)\n",
    "        if fname.endswith(\".npy\") and not fname.startswith(\".\")\n",
    "    ]\n",
    ")\n",
    "\n",
    "target_beh_paths = sorted(\n",
    "    [\n",
    "        os.path.join(beh_dir, fname)\n",
    "        for fname in os.listdir(target_dir)\n",
    "        if fname.endswith(\".npy\") and not fname.startswith(\".\")\n",
    "    ]\n",
    ")\n",
    "\n",
    "print(\"Number of samples:\", len(input_img_paths))\n",
    "\n",
    "for input_path, target_path, beh_path in zip(input_img_paths[:10], target_img_paths[:10], target_beh_paths[:10]):\n",
    "    print(input_path, \"|\", target_path, '|', beh_path)"
   ]
  },
  {
   "cell_type": "code",
   "execution_count": 6,
   "id": "4be845eb",
   "metadata": {
    "ExecuteTime": {
     "end_time": "2023-06-09T08:59:31.779600Z",
     "start_time": "2023-06-09T08:59:31.761571Z"
    }
   },
   "outputs": [],
   "source": [
    "from tensorflow import keras\n",
    "import numpy as np\n",
    "from tensorflow.keras.utils import to_categorical\n",
    "\n",
    "\n",
    "class ThermoMouse(keras.utils.Sequence):\n",
    "    \"\"\"Helper to iterate over the data (as Numpy arrays).\"\"\"\n",
    "\n",
    "    def __init__(self, batch_size, img_size, input_img_paths, target_img_paths, target_beh_paths):\n",
    "        self.batch_size = batch_size\n",
    "        self.img_size = img_size\n",
    "        self.input_img_paths = input_img_paths\n",
    "        self.target_img_paths = target_img_paths\n",
    "        self.target_beh_paths = target_beh_paths\n",
    "\n",
    "    def __len__(self):\n",
    "        return len(self.target_img_paths) // self.batch_size\n",
    "    \n",
    "    def __getitem__(self, idx):\n",
    "        \"\"\"Returns tuple (input, target) correspond to batch #idx.\"\"\"\n",
    "        i = idx * self.batch_size\n",
    "        batch_input_img_paths = self.input_img_paths[i : i + self.batch_size]\n",
    "        batch_target_img_paths = self.target_img_paths[i : i + self.batch_size]\n",
    "        batch_target_beh_paths = self.target_beh_paths[i : i + self.batch_size]\n",
    "        \n",
    "        x = np.zeros((self.batch_size,) + self.img_size + (1,), dtype=\"float32\")\n",
    "        for j, path in enumerate(batch_input_img_paths):\n",
    "            img = np.load(path)\n",
    "            img = (img - np.min(img)) / (np.max(img) - np.min(img))\n",
    "            img[np.isnan(img)] = 0\n",
    "            x[j] = np.expand_dims(img, 2)\n",
    "            \n",
    "        beh_outputs = np.zeros((self.batch_size), dtype=\"float32\")\n",
    "        lbl_outputs = np.zeros((self.batch_size,) + self.img_size + (1,), dtype=\"float32\")\n",
    "        for j, (path_mask, path_beh) in enumerate(zip(batch_target_img_paths, batch_target_beh_paths)):\n",
    "            lbl = np.load(path_mask)\n",
    "            lbl = (lbl - np.min(lbl)) / (np.max(lbl) - np.min(lbl))\n",
    "            lbl[np.isnan(lbl)] = 0\n",
    "            \n",
    "            beh = np.load(path_beh)\n",
    "            if beh == 'SLEEP':\n",
    "                beh = 0\n",
    "            elif beh == 'ACTIVE':\n",
    "                beh = 1\n",
    "            else:\n",
    "                print('############ WARNING ################ beh level not expected: ', beh)\n",
    "            \n",
    "            lbl_outputs[j] = np.expand_dims(lbl, 2)\n",
    "            #beh_outputs[j] = beh \n",
    "            \n",
    "        return x, lbl_outputs #, beh_outputs]\n"
   ]
  },
  {
   "cell_type": "code",
   "execution_count": 7,
   "id": "b34b8513",
   "metadata": {
    "ExecuteTime": {
     "end_time": "2023-06-09T08:59:33.398532Z",
     "start_time": "2023-06-09T08:59:33.306432Z"
    }
   },
   "outputs": [],
   "source": [
    "import random\n",
    "val_samples = 1000\n",
    "random.Random(1337).shuffle(input_img_paths)\n",
    "random.Random(1337).shuffle(target_img_paths)\n",
    "random.Random(1337).shuffle(target_beh_paths)\n",
    "\n",
    "train_input_img_paths = input_img_paths[:-val_samples]\n",
    "train_target_img_paths = target_img_paths[:-val_samples]\n",
    "train_target_beh_paths = target_beh_paths[:-val_samples]\n",
    "\n",
    "val_input_img_paths = input_img_paths[-val_samples:]\n",
    "val_target_img_paths = target_img_paths[-val_samples:]\n",
    "val_target_beh_paths = target_beh_paths[-val_samples:]\n",
    "\n",
    "# Instantiate data Sequences for each split\n",
    "batch_size = 8\n",
    "train_gen = ThermoMouse(\n",
    "    batch_size, img_size, train_input_img_paths, train_target_img_paths, train_target_beh_paths\n",
    ")\n",
    "val_gen = ThermoMouse(batch_size, img_size, val_input_img_paths, val_target_img_paths, val_target_beh_paths)"
   ]
  },
  {
   "cell_type": "code",
   "execution_count": 8,
   "id": "bdb12495",
   "metadata": {
    "ExecuteTime": {
     "end_time": "2023-06-09T08:59:44.847150Z",
     "start_time": "2023-06-09T08:59:43.842152Z"
    }
   },
   "outputs": [
    {
     "name": "stdout",
     "output_type": "stream",
     "text": [
      "Model: \"model\"\n",
      "__________________________________________________________________________________________________\n",
      " Layer (type)                   Output Shape         Param #     Connected to                     \n",
      "==================================================================================================\n",
      " input_1 (InputLayer)           [(None, 144, 112, 1  0           []                               \n",
      "                                )]                                                                \n",
      "                                                                                                  \n",
      " conv2d (Conv2D)                (None, 144, 112, 16  160         ['input_1[0][0]']                \n",
      "                                )                                                                 \n",
      "                                                                                                  \n",
      " conv2d_1 (Conv2D)              (None, 144, 112, 16  2320        ['conv2d[0][0]']                 \n",
      "                                )                                                                 \n",
      "                                                                                                  \n",
      " max_pooling2d (MaxPooling2D)   (None, 72, 56, 16)   0           ['conv2d_1[0][0]']               \n",
      "                                                                                                  \n",
      " conv2d_2 (Conv2D)              (None, 72, 56, 32)   4640        ['max_pooling2d[0][0]']          \n",
      "                                                                                                  \n",
      " conv2d_3 (Conv2D)              (None, 72, 56, 32)   9248        ['conv2d_2[0][0]']               \n",
      "                                                                                                  \n",
      " max_pooling2d_1 (MaxPooling2D)  (None, 36, 28, 32)  0           ['conv2d_3[0][0]']               \n",
      "                                                                                                  \n",
      " conv2d_4 (Conv2D)              (None, 36, 28, 64)   18496       ['max_pooling2d_1[0][0]']        \n",
      "                                                                                                  \n",
      " conv2d_5 (Conv2D)              (None, 36, 28, 64)   36928       ['conv2d_4[0][0]']               \n",
      "                                                                                                  \n",
      " max_pooling2d_2 (MaxPooling2D)  (None, 18, 14, 64)  0           ['conv2d_5[0][0]']               \n",
      "                                                                                                  \n",
      " conv2d_6 (Conv2D)              (None, 18, 14, 128)  73856       ['max_pooling2d_2[0][0]']        \n",
      "                                                                                                  \n",
      " conv2d_7 (Conv2D)              (None, 18, 14, 128)  147584      ['conv2d_6[0][0]']               \n",
      "                                                                                                  \n",
      " max_pooling2d_3 (MaxPooling2D)  (None, 9, 7, 128)   0           ['conv2d_7[0][0]']               \n",
      "                                                                                                  \n",
      " conv2d_8 (Conv2D)              (None, 9, 7, 256)    295168      ['max_pooling2d_3[0][0]']        \n",
      "                                                                                                  \n",
      " conv2d_9 (Conv2D)              (None, 9, 7, 256)    590080      ['conv2d_8[0][0]']               \n",
      "                                                                                                  \n",
      " up_sampling2d (UpSampling2D)   (None, 18, 14, 256)  0           ['conv2d_9[0][0]']               \n",
      "                                                                                                  \n",
      " conv2d_10 (Conv2D)             (None, 18, 14, 128)  131200      ['up_sampling2d[0][0]']          \n",
      "                                                                                                  \n",
      " concatenate (Concatenate)      (None, 18, 14, 256)  0           ['conv2d_7[0][0]',               \n",
      "                                                                  'conv2d_10[0][0]']              \n",
      "                                                                                                  \n",
      " conv2d_11 (Conv2D)             (None, 18, 14, 128)  295040      ['concatenate[0][0]']            \n",
      "                                                                                                  \n",
      " conv2d_12 (Conv2D)             (None, 18, 14, 128)  147584      ['conv2d_11[0][0]']              \n",
      "                                                                                                  \n",
      " up_sampling2d_1 (UpSampling2D)  (None, 36, 28, 128)  0          ['conv2d_12[0][0]']              \n",
      "                                                                                                  \n",
      " conv2d_13 (Conv2D)             (None, 36, 28, 64)   32832       ['up_sampling2d_1[0][0]']        \n",
      "                                                                                                  \n",
      " concatenate_1 (Concatenate)    (None, 36, 28, 128)  0           ['conv2d_5[0][0]',               \n",
      "                                                                  'conv2d_13[0][0]']              \n",
      "                                                                                                  \n",
      " conv2d_14 (Conv2D)             (None, 36, 28, 64)   73792       ['concatenate_1[0][0]']          \n",
      "                                                                                                  \n",
      " conv2d_15 (Conv2D)             (None, 36, 28, 64)   36928       ['conv2d_14[0][0]']              \n",
      "                                                                                                  \n",
      " up_sampling2d_2 (UpSampling2D)  (None, 72, 56, 64)  0           ['conv2d_15[0][0]']              \n",
      "                                                                                                  \n",
      " conv2d_16 (Conv2D)             (None, 72, 56, 32)   8224        ['up_sampling2d_2[0][0]']        \n",
      "                                                                                                  \n",
      " concatenate_2 (Concatenate)    (None, 72, 56, 64)   0           ['conv2d_3[0][0]',               \n",
      "                                                                  'conv2d_16[0][0]']              \n",
      "                                                                                                  \n",
      " conv2d_17 (Conv2D)             (None, 72, 56, 32)   18464       ['concatenate_2[0][0]']          \n",
      "                                                                                                  \n",
      " conv2d_18 (Conv2D)             (None, 72, 56, 32)   9248        ['conv2d_17[0][0]']              \n",
      "                                                                                                  \n",
      " up_sampling2d_3 (UpSampling2D)  (None, 144, 112, 32  0          ['conv2d_18[0][0]']              \n",
      "                                )                                                                 \n",
      "                                                                                                  \n",
      " conv2d_19 (Conv2D)             (None, 144, 112, 16  2064        ['up_sampling2d_3[0][0]']        \n",
      "                                )                                                                 \n",
      "                                                                                                  \n",
      " concatenate_3 (Concatenate)    (None, 144, 112, 32  0           ['conv2d_1[0][0]',               \n",
      "                                )                                 'conv2d_19[0][0]']              \n",
      "                                                                                                  \n",
      " conv2d_20 (Conv2D)             (None, 144, 112, 16  4624        ['concatenate_3[0][0]']          \n",
      "                                )                                                                 \n",
      "                                                                                                  \n",
      " conv2d_21 (Conv2D)             (None, 144, 112, 16  2320        ['conv2d_20[0][0]']              \n",
      "                                )                                                                 \n"
     ]
    },
    {
     "name": "stdout",
     "output_type": "stream",
     "text": [
      "                                                                                                  \n",
      " frame (Conv2D)                 (None, 144, 112, 1)  17          ['conv2d_21[0][0]']              \n",
      "                                                                                                  \n",
      "==================================================================================================\n",
      "Total params: 1,940,817\n",
      "Trainable params: 1,940,817\n",
      "Non-trainable params: 0\n",
      "__________________________________________________________________________________________________\n"
     ]
    }
   ],
   "source": [
    "import tensorflow as tf\n",
    "from tensorflow.keras import layers\n",
    "\n",
    "# Define the U-Net model\n",
    "def unet_model(input_shape):\n",
    "    inputs = tf.keras.Input(shape=input_shape)\n",
    "    \n",
    "    # Encoder\n",
    "    conv1 = layers.Conv2D(64, 3, activation=\"relu\", padding=\"same\")(inputs)\n",
    "    conv1 = layers.Conv2D(64, 3, activation=\"relu\", padding=\"same\")(conv1)\n",
    "    pool1 = layers.MaxPooling2D(pool_size=(2, 2))(conv1)\n",
    "\n",
    "    conv2 = layers.Conv2D(128, 3, activation=\"relu\", padding=\"same\")(pool1)\n",
    "    conv2 = layers.Conv2D(128, 3, activation=\"relu\", padding=\"same\")(conv2)\n",
    "    pool2 = layers.MaxPooling2D(pool_size=(2, 2))(conv2)\n",
    "\n",
    "    conv3 = layers.Conv2D(256, 3, activation=\"relu\", padding=\"same\")(pool2)\n",
    "    conv3 = layers.Conv2D(256, 3, activation=\"relu\", padding=\"same\")(conv3)\n",
    "    pool3 = layers.MaxPooling2D(pool_size=(2, 2))(conv3)\n",
    "\n",
    "    conv4 = layers.Conv2D(512, 3, activation=\"relu\", padding=\"same\")(pool3)\n",
    "    conv4 = layers.Conv2D(512, 3, activation=\"relu\", padding=\"same\")(conv4)\n",
    "    pool4 = layers.MaxPooling2D(pool_size=(2, 2))(conv4)\n",
    "    \n",
    "    # Bottleneck\n",
    "    conv5 = layers.Conv2D(1024, 3, activation=\"relu\", padding=\"same\")(pool4)\n",
    "    conv5 = layers.Conv2D(1024, 3, activation=\"relu\", padding=\"same\")(conv5)\n",
    "    \n",
    "    # Decoder\n",
    "    up1 = layers.UpSampling2D(size=(2, 2))(conv5)\n",
    "    up1 = layers.Conv2D(512, 2, activation=\"relu\", padding=\"same\")(up1)\n",
    "    merge1 = layers.concatenate([conv4, up1], axis=3)\n",
    "    conv6 = layers.Conv2D(512, 3, activation=\"relu\", padding=\"same\")(merge1)\n",
    "    conv6 = layers.Conv2D(512, 3, activation=\"relu\", padding=\"same\")(conv6)\n",
    "\n",
    "    up2 = layers.UpSampling2D(size=(2, 2))(conv6)\n",
    "    up2 = layers.Conv2D(256, 2, activation=\"relu\", padding=\"same\")(up2)\n",
    "    merge2 = layers.concatenate([conv3, up2], axis=3)\n",
    "    conv7 = layers.Conv2D(256, 3, activation=\"relu\", padding=\"same\")(merge2)\n",
    "    conv7 = layers.Conv2D(256, 3, activation=\"relu\", padding=\"same\")(conv7)\n",
    "\n",
    "    up3 = layers.UpSampling2D(size=(2, 2))(conv7)\n",
    "    up3 = layers.Conv2D(128, 2, activation=\"relu\", padding=\"same\")(up3)\n",
    "    merge3 = layers.concatenate([conv2, up3], axis=3)\n",
    "    conv8 = layers.Conv2D(128, 3, activation=\"relu\", padding=\"same\")(merge3)\n",
    "    conv8 = layers.Conv2D(128, 3, activation=\"relu\", padding=\"same\")(conv8)\n",
    "\n",
    "    up4 = layers.UpSampling2D(size=(2, 2))(conv8)\n",
    "    up4 = layers.Conv2D(64, 2, activation=\"relu\", padding=\"same\")(up4)\n",
    "    merge4 = layers.concatenate([conv1, up4], axis=3)\n",
    "    conv9 = layers.Conv2D(64, 3, activation=\"relu\", padding=\"same\")(merge4)\n",
    "    conv9 = layers.Conv2D(64, 3, activation=\"relu\", padding=\"same\")(conv9)\n",
    "    \n",
    "    # Output\n",
    "    out_frame = layers.Conv2D(1, 1, activation=\"sigmoid\",name='frame')(conv9)\n",
    "    #out_beh = layers.Dense(1, activation=\"sigmoid\",name='beh')(conv5)\n",
    "    \n",
    "    # Create the model\n",
    "    model = tf.keras.Model(inputs=inputs, outputs=out_frame) #,out_beh])\n",
    "    \n",
    "    return model\n",
    "\n",
    "def unet_model_reduced(input_shape):\n",
    "    inputs = tf.keras.Input(shape=input_shape)\n",
    "    \n",
    "    # Encoder\n",
    "    conv1 = layers.Conv2D(16, 3, activation=\"relu\", padding=\"same\")(inputs)\n",
    "    conv1 = layers.Conv2D(16, 3, activation=\"relu\", padding=\"same\")(conv1)\n",
    "    pool1 = layers.MaxPooling2D(pool_size=(2, 2))(conv1)\n",
    "\n",
    "    conv2 = layers.Conv2D(32, 3, activation=\"relu\", padding=\"same\")(pool1)\n",
    "    conv2 = layers.Conv2D(32, 3, activation=\"relu\", padding=\"same\")(conv2)\n",
    "    pool2 = layers.MaxPooling2D(pool_size=(2, 2))(conv2)\n",
    "\n",
    "    conv3 = layers.Conv2D(64, 3, activation=\"relu\", padding=\"same\")(pool2)\n",
    "    conv3 = layers.Conv2D(64, 3, activation=\"relu\", padding=\"same\")(conv3)\n",
    "    pool3 = layers.MaxPooling2D(pool_size=(2, 2))(conv3)\n",
    "\n",
    "    conv4 = layers.Conv2D(128, 3, activation=\"relu\", padding=\"same\")(pool3)\n",
    "    conv4 = layers.Conv2D(128, 3, activation=\"relu\", padding=\"same\")(conv4)\n",
    "    pool4 = layers.MaxPooling2D(pool_size=(2, 2))(conv4)\n",
    "    \n",
    "    # Bottleneck\n",
    "    conv5 = layers.Conv2D(256, 3, activation=\"relu\", padding=\"same\")(pool4)\n",
    "    conv5 = layers.Conv2D(256, 3, activation=\"relu\", padding=\"same\")(conv5)\n",
    "    \n",
    "    # Decoder\n",
    "    up1 = layers.UpSampling2D(size=(2, 2))(conv5)\n",
    "    up1 = layers.Conv2D(128, 2, activation=\"relu\", padding=\"same\")(up1)\n",
    "    merge1 = layers.concatenate([conv4, up1], axis=3)\n",
    "    conv6 = layers.Conv2D(128, 3, activation=\"relu\", padding=\"same\")(merge1)\n",
    "    conv6 = layers.Conv2D(128, 3, activation=\"relu\", padding=\"same\")(conv6)\n",
    "\n",
    "    up2 = layers.UpSampling2D(size=(2, 2))(conv6)\n",
    "    up2 = layers.Conv2D(64, 2, activation=\"relu\", padding=\"same\")(up2)\n",
    "    merge2 = layers.concatenate([conv3, up2], axis=3)\n",
    "    conv7 = layers.Conv2D(64, 3, activation=\"relu\", padding=\"same\")(merge2)\n",
    "    conv7 = layers.Conv2D(64, 3, activation=\"relu\", padding=\"same\")(conv7)\n",
    "\n",
    "    up3 = layers.UpSampling2D(size=(2, 2))(conv7)\n",
    "    up3 = layers.Conv2D(32, 2, activation=\"relu\", padding=\"same\")(up3)\n",
    "    merge3 = layers.concatenate([conv2, up3], axis=3)\n",
    "    conv8 = layers.Conv2D(32, 3, activation=\"relu\", padding=\"same\")(merge3)\n",
    "    conv8 = layers.Conv2D(32, 3, activation=\"relu\", padding=\"same\")(conv8)\n",
    "\n",
    "    up4 = layers.UpSampling2D(size=(2, 2))(conv8)\n",
    "    up4 = layers.Conv2D(16, 2, activation=\"relu\", padding=\"same\")(up4)\n",
    "    merge4 = layers.concatenate([conv1, up4], axis=3)\n",
    "    conv9 = layers.Conv2D(16, 3, activation=\"relu\", padding=\"same\")(merge4)\n",
    "    conv9 = layers.Conv2D(16, 3, activation=\"relu\", padding=\"same\")(conv9)\n",
    "    \n",
    "    # Output\n",
    "    out_frame = layers.Conv2D(1, 1, activation=\"sigmoid\", name='frame')(conv9)\n",
    "    \n",
    "    # Create the model\n",
    "    model = tf.keras.Model(inputs=inputs, outputs=out_frame)\n",
    "    \n",
    "    return model\n",
    "\n",
    "# Create the U-Net model\n",
    "input_shape = (144, 112,1)\n",
    "keras.backend.clear_session()\n",
    "model = unet_model_reduced(input_shape)\n",
    "\n",
    "from focal_loss import BinaryFocalLoss\n",
    "\n",
    "# clipnorm=1.\n",
    "model.compile(optimizer= keras.optimizers.Adam(0.0001), loss=BinaryFocalLoss(gamma=2), metrics='Accuracy') #BalancedSparseCategoricalAccuracy())\n",
    "\n",
    "# Print the model summary\n",
    "model.summary()\n"
   ]
  },
  {
   "cell_type": "code",
   "execution_count": 9,
   "id": "4b5decd6",
   "metadata": {
    "ExecuteTime": {
     "end_time": "2023-06-09T16:06:37.164710Z",
     "start_time": "2023-06-09T08:59:51.722629Z"
    }
   },
   "outputs": [
    {
     "name": "stdout",
     "output_type": "stream",
     "text": [
      "Epoch 1/15\n",
      "7419/7419 [==============================] - 2304s 310ms/step - loss: 0.0035 - Accuracy: 0.9953 - val_loss: 0.0017 - val_Accuracy: 0.9973\n",
      "Epoch 2/15\n",
      "7419/7419 [==============================] - 1887s 254ms/step - loss: 0.0015 - Accuracy: 0.9977 - val_loss: 0.0012 - val_Accuracy: 0.9982\n",
      "Epoch 3/15\n",
      "7419/7419 [==============================] - 1876s 253ms/step - loss: 0.0013 - Accuracy: 0.9980 - val_loss: 0.0012 - val_Accuracy: 0.9981\n",
      "Epoch 4/15\n",
      "7419/7419 [==============================] - 1899s 256ms/step - loss: 0.0011 - Accuracy: 0.9983 - val_loss: 9.4758e-04 - val_Accuracy: 0.9985\n",
      "Epoch 5/15\n",
      "7419/7419 [==============================] - 1862s 251ms/step - loss: 0.0010 - Accuracy: 0.9984 - val_loss: 9.1282e-04 - val_Accuracy: 0.9986\n",
      "Epoch 6/15\n",
      "7419/7419 [==============================] - 1882s 254ms/step - loss: 9.3181e-04 - Accuracy: 0.9986 - val_loss: 8.3967e-04 - val_Accuracy: 0.9987\n",
      "Epoch 7/15\n",
      "7419/7419 [==============================] - 1866s 251ms/step - loss: 8.5812e-04 - Accuracy: 0.9987 - val_loss: 8.4225e-04 - val_Accuracy: 0.9987\n",
      "Epoch 8/15\n",
      "7419/7419 [==============================] - 1726s 233ms/step - loss: 8.0052e-04 - Accuracy: 0.9988 - val_loss: 7.4639e-04 - val_Accuracy: 0.9989\n",
      "Epoch 9/15\n",
      "7419/7419 [==============================] - 1564s 211ms/step - loss: 7.4810e-04 - Accuracy: 0.9988 - val_loss: 7.8142e-04 - val_Accuracy: 0.9988\n",
      "Epoch 10/15\n",
      "7419/7419 [==============================] - 1404s 189ms/step - loss: 7.1231e-04 - Accuracy: 0.9989 - val_loss: 8.3458e-04 - val_Accuracy: 0.9988\n",
      "Epoch 11/15\n",
      "7419/7419 [==============================] - 1493s 201ms/step - loss: 6.8725e-04 - Accuracy: 0.9989 - val_loss: 8.3189e-04 - val_Accuracy: 0.9988\n",
      "Epoch 12/15\n",
      "7419/7419 [==============================] - 1487s 200ms/step - loss: 6.3428e-04 - Accuracy: 0.9990 - val_loss: 7.5054e-04 - val_Accuracy: 0.9989\n",
      "Epoch 13/15\n",
      "7419/7419 [==============================] - 1455s 196ms/step - loss: 6.1186e-04 - Accuracy: 0.9990 - val_loss: 7.4831e-04 - val_Accuracy: 0.9989\n",
      "Epoch 14/15\n",
      "7419/7419 [==============================] - 1441s 194ms/step - loss: 5.7795e-04 - Accuracy: 0.9991 - val_loss: 7.7009e-04 - val_Accuracy: 0.9990\n",
      "Epoch 15/15\n",
      "7419/7419 [==============================] - 1458s 197ms/step - loss: 5.6317e-04 - Accuracy: 0.9991 - val_loss: 6.9747e-04 - val_Accuracy: 0.9990\n"
     ]
    },
    {
     "data": {
      "text/plain": [
       "<keras.callbacks.History at 0x1c8f5afabb0>"
      ]
     },
     "execution_count": 9,
     "metadata": {},
     "output_type": "execute_result"
    }
   ],
   "source": [
    "\n",
    "epochs = 15\n",
    "model.fit(train_gen,  epochs=epochs, validation_data=val_gen)\n"
   ]
  },
  {
   "cell_type": "code",
   "execution_count": 10,
   "id": "ac942e93",
   "metadata": {
    "ExecuteTime": {
     "end_time": "2023-06-09T16:35:17.061959Z",
     "start_time": "2023-06-09T16:35:16.892081Z"
    }
   },
   "outputs": [],
   "source": [
    "model_path = 'segmentation_unet_mouse_reduced.h5'\n",
    "model.save(model_path, save_format='h5')"
   ]
  },
  {
   "cell_type": "code",
   "execution_count": 11,
   "id": "de3c3350",
   "metadata": {
    "ExecuteTime": {
     "end_time": "2023-06-09T16:35:18.013150Z",
     "start_time": "2023-06-09T16:35:17.981152Z"
    }
   },
   "outputs": [
    {
     "ename": "NameError",
     "evalue": "name 'y' is not defined",
     "output_type": "error",
     "traceback": [
      "\u001b[1;31m---------------------------------------------------------------------------\u001b[0m",
      "\u001b[1;31mNameError\u001b[0m                                 Traceback (most recent call last)",
      "Input \u001b[1;32mIn [11]\u001b[0m, in \u001b[0;36m<cell line: 1>\u001b[1;34m()\u001b[0m\n\u001b[1;32m----> 1\u001b[0m plt\u001b[38;5;241m.\u001b[39mimshow(\u001b[43my\u001b[49m[\u001b[38;5;241m0\u001b[39m])\n\u001b[0;32m      2\u001b[0m x[\u001b[38;5;241m0\u001b[39m]\n",
      "\u001b[1;31mNameError\u001b[0m: name 'y' is not defined"
     ]
    }
   ],
   "source": [
    "plt.imshow(y[0])\n",
    "x[0]"
   ]
  },
  {
   "cell_type": "code",
   "execution_count": 12,
   "id": "bda4d6ba",
   "metadata": {
    "ExecuteTime": {
     "end_time": "2023-06-09T16:35:22.113876Z",
     "start_time": "2023-06-09T16:35:20.996000Z"
    }
   },
   "outputs": [
    {
     "data": {
      "text/plain": [
       "<matplotlib.image.AxesImage at 0x1cad41b0ee0>"
      ]
     },
     "execution_count": 12,
     "metadata": {},
     "output_type": "execute_result"
    },
    {
     "data": {
      "image/png": "[encoded data removed]",
      "text/plain": [
       "<Figure size 432x288 with 2 Axes>"
      ]
     },
     "metadata": {
      "needs_background": "light"
     },
     "output_type": "display_data"
    }
   ],
   "source": [
    "fig,ax = plt.subplots(1,2)\n",
    "x,y = val_gen[100]\n",
    "ax[0].imshow( x[0])\n",
    "ax[1].imshow( model.predict(np.expand_dims( x[0],0 ) )[0]>0.6  )"
   ]
  },
  {
   "cell_type": "code",
   "execution_count": 154,
   "id": "d6c42fda",
   "metadata": {
    "ExecuteTime": {
     "end_time": "2023-06-09T08:41:21.637106Z",
     "start_time": "2023-06-09T08:41:21.626106Z"
    }
   },
   "outputs": [
    {
     "data": {
      "text/plain": [
       "8"
      ]
     },
     "execution_count": 154,
     "metadata": {},
     "output_type": "execute_result"
    }
   ],
   "source": []
  },
  {
   "cell_type": "code",
   "execution_count": 14,
   "id": "3b3939c6",
   "metadata": {
    "ExecuteTime": {
     "end_time": "2023-06-09T16:47:49.190495Z",
     "start_time": "2023-06-09T16:47:14.909228Z"
    }
   },
   "outputs": [],
   "source": [
    "\n",
    "\n",
    "\n",
    "\n",
    "cv2.namedWindow('img', cv2.WINDOW_NORMAL)\n",
    "\n",
    "exit = False\n",
    "for i in range(100):\n",
    "    \n",
    "    x,y = val_gen[i]\n",
    "    for j in range(x.shape[0]):\n",
    "        prediction = model.predict(np.expand_dims( x[0],0 ) )[0]>0.6\n",
    "        x_rgb = cv2.cvtColor(x[0],cv2.COLOR_GRAY2RGB)\n",
    "        prediction_rgb = cv2.cvtColor(prediction.astype('uint8'),cv2.COLOR_GRAY2RGB)\n",
    "        fused = np.where(prediction_rgb, (255,255,0), x_rgb )\n",
    "        \n",
    "        cv2.imshow('img',fused)\n",
    "        \n",
    "        if cv2.waitKey(1) & 0xFF == ord('q'):\n",
    "            exit= True\n",
    "        \n",
    "    if exit:\n",
    "        break\n",
    "cv2.destroyAllWindows()\n",
    "\n"
   ]
  },
  {
   "cell_type": "code",
   "execution_count": 156,
   "id": "10ad439e",
   "metadata": {
    "ExecuteTime": {
     "end_time": "2023-06-09T08:42:51.860879Z",
     "start_time": "2023-06-09T08:42:51.842886Z"
    }
   },
   "outputs": [],
   "source": [
    "cv2.destroyAllWindows()"
   ]
  },
  {
   "cell_type": "code",
   "execution_count": null,
   "id": "99206762",
   "metadata": {},
   "outputs": [],
   "source": []
  }
 ],
 "metadata": {
  "kernelspec": {
   "display_name": "Python 3 (ipykernel)",
   "language": "python",
   "name": "python3"
  },
  "language_info": {
   "codemirror_mode": {
    "name": "ipython",
    "version": 3
   },
   "file_extension": ".py",
   "mimetype": "text/x-python",
   "name": "python",
   "nbconvert_exporter": "python",
   "pygments_lexer": "ipython3",
   "version": "3.10.9"
  }
 },
 "nbformat": 4,
 "nbformat_minor": 5
}
